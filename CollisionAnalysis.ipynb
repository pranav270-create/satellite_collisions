{
  "nbformat": 4,
  "nbformat_minor": 0,
  "metadata": {
    "colab": {
      "name": "CollisionAnalysis.ipynb",
      "provenance": [],
      "collapsed_sections": []
    },
    "kernelspec": {
      "name": "python3",
      "display_name": "Python 3"
    },
    "language_info": {
      "name": "python"
    }
  },
  "cells": [
    {
      "cell_type": "code",
      "source": [
        "#!pip install skyfield\n",
        "from skyfield.api import EarthSatellite\n",
        "from skyfield.api import load\n",
        "#!pip install sgp4\n",
        "from sgp4.api import Satrec\n",
        "from sgp4.api import jday\n",
        "import pandas as pd\n",
        "import numpy as np\n",
        "\n",
        "TLEs = open('noaa-06.txt', 'r')\n",
        "time_ = []\n",
        "i = 0\n",
        "# jd, fr = jday(1980, 3, 10, 38, 52, 00) \n",
        "position = []\n",
        "# velocity = []\n",
        "ts = load.timescale()\n",
        "\n",
        "# iterate through all TLE timepoints\n",
        "for line in TLEs:\n",
        "  i+=1\n",
        "  # for the first line set equal to t and obtain the Julian date\n",
        "  if i%2==1:\n",
        "    s = line\n",
        "    temp = (line.split(' ')[5])\n",
        "    if temp != '':\n",
        "      time = temp\n",
        "      time_.append(time)\n",
        "  \n",
        "  # for the second line obtain the Keplerian information\n",
        "  else:\n",
        "    if line != '':\n",
        "      t = line\n",
        "      # satellite = Satrec.twoline2rv(s, t)\n",
        "      # e, r, v = satellite.sgp4(jd, fr)\n",
        "      satellite = EarthSatellite(s, t, 'NOAA-6', ts)\n",
        "      month = int(int(time[3:5])/31)+1\n",
        "      day = int(time[3:5])\n",
        "      frac = int(time[6:12])\n",
        "      hour_pre = frac*24\n",
        "      hour = int(hour_pre)\n",
        "      minute_pre = np.abs(hour-hour_pre)*60\n",
        "      minute = int(minute_pre)\n",
        "      seconds_pre = np.abs(minute-minute_pre)*60\n",
        "      seconds = int(seconds_pre)\n",
        "      sat_time = ts.utc(1980, month, day, hour, minute, seconds)\n",
        "\n",
        "      # build a satellite with geocentric inertial frame, obtain position vector in km\n",
        "      geocentric = (satellite.at(sat_time))\n",
        "      position.append(geocentric.position.km)\n",
        "      # position.append(r)\n",
        "      # velocity.append(v)"
      ],
      "metadata": {
        "id": "uUG3dBSUspJs"
      },
      "execution_count": 198,
      "outputs": []
    },
    {
      "cell_type": "code",
      "source": [
        "# custom function for removing nan \n",
        "\n",
        "def clean(arr):\n",
        "  nan_array = np.isnan(arr)\n",
        "  not_nan_array = ~ nan_array\n",
        "  arr_clean = arr[not_nan_array]\n",
        "  return arr_clean"
      ],
      "metadata": {
        "id": "3eSxM6z6hRmK"
      },
      "execution_count": 199,
      "outputs": []
    },
    {
      "cell_type": "code",
      "source": [
        "# clip, clean and reshape data for relevant TLE epochs\n",
        "\n",
        "time_ = np.array(time_[:13])\n",
        "\n",
        "position = np.array(position[:15])\n",
        "position = clean(position)\n",
        "length = int(len(position)/3)\n",
        "position = np.reshape(position,(length,3))\n",
        "\n",
        "# TEME position\n",
        "# position = np.array(position[:13]) #m\n",
        "# velocity = np.array(velocity[:13]) #m/s\n",
        "\n",
        "# cross_track = np.zeros_like(position)\n",
        "# along_track = np.zeros_like(position)\n",
        "# radial = np.zeros_like(position)\n",
        "\n",
        "# for i in range(len(time)):\n",
        "#   h = np.cross(position[i,:],velocity[i,:])\n",
        "#   cross_track[i,:] = h/np.linalg.norm(h)\n",
        "#   t = np.cross(cross_track[i,:], position[i,:])\n",
        "#   along_track[i,:] = t/np.linalg.norm(t)\n",
        "#   radial[i,:] = position[i,:]/np.linalg.norm(position[i,:])"
      ],
      "metadata": {
        "id": "Hjsm1fffCjTn"
      },
      "execution_count": 200,
      "outputs": []
    },
    {
      "cell_type": "code",
      "source": [
        "from numpy import genfromtxt\n",
        "my_data = genfromtxt('NOAA_6.csv', delimiter=',')\n",
        "\n",
        "# obtain position and velocity vectors from STK propogation file\n",
        "# clean for NaN values with clean function \n",
        "\n",
        "time_propogate = my_data[:53103,0]\n",
        "time_propogate = clean(time_propogate)\n",
        "\n",
        "position_propogate = my_data[:53103,1:4]\n",
        "position_propogate = clean(position_propogate)\n",
        "\n",
        "length = int(len(position_propogate)/3)\n",
        "position_propogate = np.reshape(position_propogate,(length,3))\n",
        "\n",
        "velocity_propogate = my_data[:53103,4:8]\n",
        "velocity_propogate = clean(velocity_propogate)\n",
        "velocity_propogate = np.reshape(velocity_propogate,(length,3))"
      ],
      "metadata": {
        "id": "MZFUv4zB_Ns5"
      },
      "execution_count": 201,
      "outputs": []
    },
    {
      "cell_type": "code",
      "source": [
        "time_scaled = np.zeros_like(time_)\n",
        "time_ = time_.astype(np.str)\n",
        "\n",
        "# parse the time difference relative to TLE start date\n",
        "for i in range(len(time_)):\n",
        "  time_scaled[i] = float(time_[i][3:])-float(time_[0][3:])\n",
        "\n",
        "# scale into minutes\n",
        "time_scaled = time_scaled.astype(np.float)*24*60\n",
        "\n",
        "# min = 0\n",
        "# abs_min = np.Inf\n",
        "# #tol = 1e-7\n",
        "idx = np.zeros(len(time_))\n",
        "\n",
        "# for step in range(1,len(time_scaled)):\n",
        "#   print(time_scaled[step])\n",
        "#   for j in range(1,len(time_propogate)):\n",
        "#     min = np.abs(time_scaled[step] - time_propogate[j])\n",
        "#     if min<abs_min:\n",
        "#       abs_min = min\n",
        "#       idx[step] = j\n",
        "\n",
        "# vectorized way of finding corresponding STK time step to the TLE file \n",
        "for step in range(1,len(time_scaled)):\n",
        "  array = np.abs(np.ones_like(time_propogate)*time_scaled[step]-time_propogate)\n",
        "  idx[step] = np.argmin(array)\n",
        "\n",
        "# indices of closest fit points\n",
        "print(idx)"
      ],
      "metadata": {
        "colab": {
          "base_uri": "https://localhost:8080/"
        },
        "id": "olh1zYXrAo-o",
        "outputId": "b646f00e-62a0-4ccd-c175-7e7c04f6f350"
      },
      "execution_count": 202,
      "outputs": [
        {
          "output_type": "stream",
          "name": "stdout",
          "text": [
            "[  0. 162. 221. 261. 298. 318. 381. 486. 561. 820. 830. 861. 885.]\n"
          ]
        }
      ]
    },
    {
      "cell_type": "code",
      "source": [
        "# calculate cross track, along track and radial vectors\n",
        "\n",
        "idx = idx.astype(int)\n",
        "position_propogate_clip = position_propogate[idx]\n",
        "velocity_propogate_clip = velocity_propogate[idx]\n",
        "\n",
        "# cross_track_prop = np.zeros_like(position_propogate_clip)\n",
        "# along_track_prop = np.zeros_like(position_propogate_clip)\n",
        "# radial_prop = np.zeros_like(position_propogate_clip)\n",
        "\n",
        "values = np.zeros((3,3,len(position_propogate_clip)))\n",
        "for i in range(len(position_propogate_clip)):\n",
        "  h = np.cross(position_propogate_clip[i,:],velocity_propogate_clip[i,:])\n",
        "  cross_track_prop = h/np.linalg.norm(h)\n",
        "  t = np.cross(cross_track_prop, position_propogate_clip[i,:])\n",
        "  along_track_prop = t/np.linalg.norm(t)\n",
        "  radial_prop = position_propogate_clip[i,:]/np.linalg.norm(position_propogate_clip[i,:])\n",
        "  values[:,:,i] = [radial_prop, along_track_prop, cross_track_prop]"
      ],
      "metadata": {
        "id": "-vkVIe5FQabd"
      },
      "execution_count": 243,
      "outputs": []
    },
    {
      "cell_type": "code",
      "source": [
        "# make change of basis transformation into same frame\n",
        "# assumption that frame shift minimal over time\n",
        "start_pos = position[0]\n",
        "start_pos_rot = position_propogate_clip[0]\n",
        "\n",
        "transform = np.array([[start_pos[0]/start_pos_rot[0], 0, 0], [0, start_pos[1]/start_pos_rot[1], 0], [0, 0, start_pos[2]/start_pos_rot[2]]])\n",
        "\n",
        "position_prop_rot = np.zeros_like(position_propogate_clip)\n",
        "for i in range(len(position_propogate_clip)):\n",
        "  position_prop_rot[i] = transform@position_propogate_clip[i].T"
      ],
      "metadata": {
        "id": "6pb_E4OaRcF1"
      },
      "execution_count": 244,
      "outputs": []
    },
    {
      "cell_type": "code",
      "source": [
        "d_pos = (position_prop_rot - position)/10**9\n",
        "d_pos_ACR = np.zeros_like(d_pos)\n",
        "\n",
        "for time in range(len(d_pos)):\n",
        "  d_pos_ACR[time] = values[:,:,time]@d_pos[time].T\n",
        "\n",
        "sigma_radial = np.std(d_pos_ACR[:,0]) \n",
        "sigma_along = np.std(d_pos_ACR[:,1]) \n",
        "sigma_cross = np.std(d_pos_ACR[:,2]) \n",
        "print(sigma_radial, sigma_along, sigma_cross)"
      ],
      "metadata": {
        "colab": {
          "base_uri": "https://localhost:8080/"
        },
        "id": "Lx9m69vgU80l",
        "outputId": "42055567-1a61-4519-ed9d-587eb6f8cdf5"
      },
      "execution_count": 259,
      "outputs": [
        {
          "output_type": "stream",
          "name": "stdout",
          "text": [
            "708.7524829673059 511.16528921925084 216.16229218877749\n"
          ]
        }
      ]
    },
    {
      "cell_type": "code",
      "source": [
        "import matplotlib.pyplot as plt\n",
        "\n",
        "plt.plot(time_scaled/60, d_pos_ACR)\n",
        "labels = ('radial error','along track error','cross track error')\n",
        "plt.legend(labels)\n",
        "plt.title(\"TLE Error w.r.t SPG4 Propogator\")\n",
        "plt.xlabel(\"Time (hr)\")\n",
        "plt.ylabel(\"Error (m)\")\n",
        "plt.show()"
      ],
      "metadata": {
        "colab": {
          "base_uri": "https://localhost:8080/",
          "height": 295
        },
        "id": "JNPw8cbxVITn",
        "outputId": "1a0516b7-5ddb-4bae-c1a7-8b72b2e6a595"
      },
      "execution_count": 255,
      "outputs": [
        {
          "output_type": "display_data",
          "data": {
            "image/png": "[encoded data removed]",
            "text/plain": [
              "<Figure size 432x288 with 1 Axes>"
            ]
          },
          "metadata": {
            "needs_background": "light"
          }
        }
      ]
    },
    {
      "cell_type": "code",
      "source": [
        ""
      ],
      "metadata": {
        "id": "T5hdFZAlYOYW"
      },
      "execution_count": null,
      "outputs": []
    }
  ]
}